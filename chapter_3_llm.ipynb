{
 "cells": [
  {
   "cell_type": "markdown",
   "metadata": {},
   "source": [
    "# Setting up LLM connection\n",
    "\n",
    "Let's first setup an OpenAI client"
   ]
  },
  {
   "cell_type": "code",
   "execution_count": 1,
   "metadata": {},
   "outputs": [],
   "source": [
    "import openai"
   ]
  },
  {
   "cell_type": "code",
   "execution_count": 5,
   "metadata": {},
   "outputs": [],
   "source": [
    "openai_client = openai.AzureOpenAI(\n",
    "    base_url=\"API_ENDPOINT\",\n",
    "    api_key=\"API_KEY\",\n",
    "    api_version=\"API_VERSION\",\n",
    ")"
   ]
  },
  {
   "cell_type": "markdown",
   "metadata": {},
   "source": [
    "This should work and respond something like \"The capital of France is Paris.\""
   ]
  },
  {
   "cell_type": "code",
   "execution_count": 9,
   "metadata": {},
   "outputs": [
    {
     "data": {
      "text/plain": [
       "'The capital of France is Paris.'"
      ]
     },
     "execution_count": 9,
     "metadata": {},
     "output_type": "execute_result"
    }
   ],
   "source": [
    "openai_client.chat.completions.create(\n",
    "    model=\"gpt-4o-mini\",\n",
    "    messages=[\n",
    "        {\"role\": \"system\", \"content\": \"You are a helpful assistant.\"},\n",
    "        {\"role\": \"user\", \"content\": \"What is the capital of France?\"},\n",
    "    ],\n",
    ").choices[0].message.content"
   ]
  },
  {
   "cell_type": "markdown",
   "metadata": {},
   "source": [
    "# Imports & Cloning repository"
   ]
  },
  {
   "cell_type": "code",
   "execution_count": 11,
   "metadata": {},
   "outputs": [],
   "source": [
    "import os\n",
    "import pickle\n",
    "import sys\n",
    "from dataclasses import dataclass\n",
    "from os import path"
   ]
  },
  {
   "cell_type": "code",
   "execution_count": 12,
   "metadata": {},
   "outputs": [],
   "source": [
    "class_names = [\"email\", \"form\", \"handwritten\", \"invoice\", \"advertisement\"]\n",
    "NUM_CLASSES = len(class_names)"
   ]
  },
  {
   "cell_type": "code",
   "execution_count": 13,
   "metadata": {},
   "outputs": [],
   "source": [
    "from src import download_dataset\n",
    "\n",
    "dataset_path = \"dataset\"\n",
    "\n",
    "download_dataset.download_and_extract(\"all\", dataset_path)"
   ]
  },
  {
   "cell_type": "code",
   "execution_count": 14,
   "metadata": {},
   "outputs": [
    {
     "name": "stdout",
     "output_type": "stream",
     "text": [
      "train_dataset contains 5000 documents\n",
      "test_dataset contains 1000 documents\n",
      "validation_dataset contains 500 documents\n"
     ]
    },
    {
     "data": {
      "text/plain": [
       "dict_keys(['id', 'image', 'label', 'words', 'boxes'])"
      ]
     },
     "execution_count": 14,
     "metadata": {},
     "output_type": "execute_result"
    }
   ],
   "source": [
    "with open(path.join(dataset_path, \"train.pkl\"), \"rb\") as f:\n",
    "    train_dataset = pickle.load(f)\n",
    "\n",
    "with open(path.join(dataset_path, \"test.pkl\"), \"rb\") as f:\n",
    "    test_dataset = pickle.load(f)\n",
    "\n",
    "with open(path.join(dataset_path, \"validation.pkl\"), \"rb\") as f:\n",
    "    validation_dataset = pickle.load(f)\n",
    "\n",
    "\n",
    "for split_name, split_dataset in zip(\n",
    "    [\"train\", \"test\", \"validation\"], [train_dataset, test_dataset, validation_dataset]\n",
    "):\n",
    "    print(f\"{split_name}_dataset contains {len(split_dataset)} documents\")\n",
    "train_dataset[0].keys()"
   ]
  },
  {
   "cell_type": "markdown",
   "metadata": {},
   "source": [
    "Each `dataset` object is a `list` containing multiple document information. A document is a `dict` with the following structure:\n",
    "\n",
    "```json\n",
    "{\n",
    "  \"id\": \"Unique document identifier\",\n",
    "  \"image\": \"A PIL.Image object containing the document's image\",\n",
    "  \"label\": \"A number between in [0 .. 4] representing the class of the document\",\n",
    "  \"words\": \"A list of strings (not words !) extracted from the image with an OCR\",\n",
    "  \"boxes\": \"A list of tuples of numbers providing the position of each word in the document\"\n",
    "}\n",
    "```\n"
   ]
  },
  {
   "cell_type": "code",
   "execution_count": null,
   "metadata": {},
   "outputs": [],
   "source": []
  }
 ],
 "metadata": {
  "kernelspec": {
   "display_name": ".venv",
   "language": "python",
   "name": "python3"
  },
  "language_info": {
   "codemirror_mode": {
    "name": "ipython",
    "version": 3
   },
   "file_extension": ".py",
   "mimetype": "text/x-python",
   "name": "python",
   "nbconvert_exporter": "python",
   "pygments_lexer": "ipython3",
   "version": "3.11.5"
  }
 },
 "nbformat": 4,
 "nbformat_minor": 2
}
